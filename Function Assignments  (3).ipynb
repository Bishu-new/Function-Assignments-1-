{
 "cells": [
  {
   "cell_type": "markdown",
   "id": "0216c197-244b-421d-a3bb-cff53b608745",
   "metadata": {},
   "source": [
    "Ans 1 :: "
   ]
  },
  {
   "cell_type": "markdown",
   "id": "924d0bf5-f6ca-4eb6-8f8c-d83622f58955",
   "metadata": {},
   "source": [
    "In Python, the def keyword is used to create a function. Here is an example of a function that returns a list of odd numbers in the range of 1 to 25:"
   ]
  },
  {
   "cell_type": "code",
   "execution_count": 1,
   "id": "796808db-cb70-4bbe-bff9-0796413e18a8",
   "metadata": {},
   "outputs": [
    {
     "data": {
      "text/plain": [
       "range(0, 26)"
      ]
     },
     "execution_count": 1,
     "metadata": {},
     "output_type": "execute_result"
    }
   ],
   "source": [
    "range(26)"
   ]
  },
  {
   "cell_type": "code",
   "execution_count": 32,
   "id": "88fc8115-8c32-426c-bfdf-4725fea6b13f",
   "metadata": {},
   "outputs": [
    {
     "name": "stdout",
     "output_type": "stream",
     "text": [
      "1\n",
      "3\n",
      "5\n",
      "7\n",
      "9\n",
      "11\n",
      "13\n",
      "15\n",
      "17\n",
      "19\n",
      "21\n",
      "23\n",
      "25\n"
     ]
    }
   ],
   "source": [
    "## returing a list of odd Number from the range (1,25)\n",
    "\n",
    "def Odd_number():\n",
    "    return i\n",
    "for i in range (1,26):\n",
    "    if i % 2 != 0 :\n",
    "        print(i)"
   ]
  },
  {
   "cell_type": "markdown",
   "id": "1df3f406-9ac2-454e-9b45-3f9e6af3f294",
   "metadata": {},
   "source": [
    "Ans 2 :"
   ]
  },
  {
   "cell_type": "markdown",
   "id": "cd914642-7d8b-427d-bb3a-9668375175ba",
   "metadata": {},
   "source": [
    "*args and **kwargs are used in some functions to allow for a variable number of arguments to be passed to the function.\n",
    "*args is used to pass a variable number of non-keyword arguments, while \n",
    "**kwargs is used to pass a variable number of keyword arguments1"
   ]
  },
  {
   "cell_type": "code",
   "execution_count": 36,
   "id": "4867d50e-f374-4e96-bcf7-4d704a3c1244",
   "metadata": {},
   "outputs": [],
   "source": [
    "## Creating a args function below .\n",
    "def test(*args, a):\n",
    "    return args ,a \n",
    "    "
   ]
  },
  {
   "cell_type": "code",
   "execution_count": 38,
   "id": "2e041da3-a82a-4275-a474-f3184327b83c",
   "metadata": {},
   "outputs": [
    {
     "data": {
      "text/plain": [
       "tuple"
      ]
     },
     "execution_count": 38,
     "metadata": {},
     "output_type": "execute_result"
    }
   ],
   "source": [
    "type (test(1,2,4, a = 24))"
   ]
  },
  {
   "cell_type": "code",
   "execution_count": 39,
   "id": "a97671f2-e42b-495f-bd24-267b2a3c6a16",
   "metadata": {},
   "outputs": [],
   "source": [
    "## args return the value in tuple form "
   ]
  },
  {
   "cell_type": "code",
   "execution_count": 40,
   "id": "d07489ea-9cf4-499b-bfaf-1b21a3ddd056",
   "metadata": {},
   "outputs": [
    {
     "data": {
      "text/plain": [
       "((1, 2, 3), 24)"
      ]
     },
     "execution_count": 40,
     "metadata": {},
     "output_type": "execute_result"
    }
   ],
   "source": [
    "test(1,2,3, a = 24)"
   ]
  },
  {
   "cell_type": "code",
   "execution_count": 41,
   "id": "36c86980-8ebe-4279-b919-d6964e194da5",
   "metadata": {},
   "outputs": [],
   "source": [
    "## Creating the **kwards function \n",
    "def test1(**kwargs):\n",
    "    return kwargs "
   ]
  },
  {
   "cell_type": "code",
   "execution_count": 43,
   "id": "32685055-bfe0-40d4-bc34-584943596d4f",
   "metadata": {},
   "outputs": [
    {
     "data": {
      "text/plain": [
       "dict"
      ]
     },
     "execution_count": 43,
     "metadata": {},
     "output_type": "execute_result"
    }
   ],
   "source": [
    "# it runs without the value given . and the data in the form of dict\n",
    "type(test1())"
   ]
  },
  {
   "cell_type": "code",
   "execution_count": 45,
   "id": "88219916-e6e6-482c-9eea-ec414a56e8a1",
   "metadata": {},
   "outputs": [
    {
     "data": {
      "text/plain": [
       "{'a': 'Bishu', 'b': [1, 2, 3, 4], 'c': 2637.45}"
      ]
     },
     "execution_count": 45,
     "metadata": {},
     "output_type": "execute_result"
    }
   ],
   "source": [
    "## Calling **kwargs funtion after assiging the value \n",
    "\n",
    "test1(a = \"Bishu\", b = [1,2,3,4], c = 2637.45)"
   ]
  },
  {
   "cell_type": "markdown",
   "id": "9809680c-0948-4920-adfa-2b2e8d3ed15c",
   "metadata": {},
   "source": [
    "Ans : 3 "
   ]
  },
  {
   "cell_type": "markdown",
   "id": "179d1a13-4410-4b51-9ae2-f42bf50399aa",
   "metadata": {},
   "source": [
    "In Python an iterator is an object which impliment the iterator protocol which consist of the methods __iter__() and __next__().\n",
    "\n",
    "The __iter__() method is used to initialize the iterator object and returns the iterator object itself. The __next__() method is used for iteration and returns the next value from the iterator. If there are no more items to return, it should raise a StopIteration exception."
   ]
  },
  {
   "cell_type": "code",
   "execution_count": 46,
   "id": "c7427512-e670-48b3-9a3a-4e11432bfbc9",
   "metadata": {},
   "outputs": [],
   "source": [
    "## Example if iterator given below \n",
    "my_list = [2, 4, 6, 8, 10, 12, 14,16, 18, 20]"
   ]
  },
  {
   "cell_type": "code",
   "execution_count": 47,
   "id": "f41ffacd-46d4-4a8e-84fc-7d57c6a20907",
   "metadata": {},
   "outputs": [],
   "source": [
    "my_iterator = iter(my_list)"
   ]
  },
  {
   "cell_type": "code",
   "execution_count": 49,
   "id": "df3e5ac9-a6d2-429e-adbf-3c5bf818c71e",
   "metadata": {},
   "outputs": [
    {
     "name": "stdout",
     "output_type": "stream",
     "text": [
      "2\n",
      "4\n",
      "6\n",
      "8\n",
      "10\n"
     ]
    }
   ],
   "source": [
    "for i in range(5):\n",
    "    print(next(my_iterator))"
   ]
  },
  {
   "cell_type": "code",
   "execution_count": 50,
   "id": "392b9c8b-1a3d-4d89-a626-ae46b771c05d",
   "metadata": {},
   "outputs": [],
   "source": [
    "## Method use above to print the first 5 element "
   ]
  },
  {
   "cell_type": "code",
   "execution_count": null,
   "id": "0a61f5c6-faf3-40ea-8af2-a55c5fa89ff0",
   "metadata": {},
   "outputs": [],
   "source": []
  },
  {
   "cell_type": "markdown",
   "id": "58011404-c019-4fe7-a6a7-791ad0841388",
   "metadata": {},
   "source": [
    "Ans 4"
   ]
  },
  {
   "cell_type": "markdown",
   "id": "5958b4d6-68e6-44e0-bba5-0aa03af19bdd",
   "metadata": {},
   "source": [
    "A generator function in Python is a special type of function that returns an iterator, which can be used to iterate over a sequence of values. Unlike regular functions that return all the values at once, a generator function returns one value at a time using the yield keyword.\n",
    "\n",
    "\n",
    "The yield keyword is used in a generator function to pause the function and return a value to the caller. When the function is called again, it resumes from where it left off and continues until it encounters another yield statement or until the function ends\n"
   ]
  },
  {
   "cell_type": "code",
   "execution_count": 1,
   "id": "7add27bf-aa55-492c-b8c3-a699df1dbd5c",
   "metadata": {},
   "outputs": [],
   "source": [
    "def test_fib(n):\n",
    "    a,b = 0,1\n",
    "    for i in range(n):\n",
    "        yield a\n",
    "        a,b = b , a+b\n",
    "        \n",
    "    "
   ]
  },
  {
   "cell_type": "code",
   "execution_count": 3,
   "id": "61f98d04-01cb-43dd-a9ac-9c8c92b6b2e3",
   "metadata": {},
   "outputs": [
    {
     "data": {
      "text/plain": [
       "<generator object test_fib at 0x7fdaaef9cf20>"
      ]
     },
     "execution_count": 3,
     "metadata": {},
     "output_type": "execute_result"
    }
   ],
   "source": [
    "test_fib(10)"
   ]
  },
  {
   "cell_type": "code",
   "execution_count": 5,
   "id": "56d88721-545a-4221-a44a-351d8b51eed5",
   "metadata": {},
   "outputs": [
    {
     "name": "stdout",
     "output_type": "stream",
     "text": [
      "0\n",
      "1\n",
      "1\n",
      "2\n",
      "3\n",
      "5\n",
      "8\n",
      "13\n",
      "21\n",
      "34\n"
     ]
    }
   ],
   "source": [
    "for i in test_fib(10):\n",
    "    print(i)"
   ]
  },
  {
   "cell_type": "code",
   "execution_count": 2,
   "id": "d0f26dab-2694-4366-8291-e8b77da45d91",
   "metadata": {},
   "outputs": [],
   "source": [
    "l = {}"
   ]
  },
  {
   "cell_type": "code",
   "execution_count": 3,
   "id": "53c55be8-1290-4487-8680-7308b05a1ccc",
   "metadata": {},
   "outputs": [
    {
     "data": {
      "text/plain": [
       "dict"
      ]
     },
     "execution_count": 3,
     "metadata": {},
     "output_type": "execute_result"
    }
   ],
   "source": [
    "type(l)"
   ]
  },
  {
   "cell_type": "markdown",
   "id": "386eec7c-8b86-4f6e-b6ae-b2f87141af4d",
   "metadata": {},
   "source": [
    "Ans 5"
   ]
  },
  {
   "cell_type": "code",
   "execution_count": 6,
   "id": "6536ebdc-b868-4509-93c6-2acfd9718a36",
   "metadata": {},
   "outputs": [
    {
     "name": "stdout",
     "output_type": "stream",
     "text": [
      "2\n",
      "3\n",
      "5\n",
      "7\n",
      "11\n",
      "13\n",
      "17\n",
      "19\n",
      "23\n",
      "29\n",
      "31\n",
      "37\n",
      "41\n",
      "43\n",
      "47\n",
      "53\n",
      "59\n",
      "61\n",
      "67\n",
      "71\n"
     ]
    }
   ],
   "source": [
    "## generating the prime Number\n",
    "\n",
    "def prime_generator():\n",
    "    primes = [2]\n",
    "    yield 2\n",
    "    for num in range(3, 1000):\n",
    "        is_prime = True\n",
    "        for prime in primes:\n",
    "            if num % prime == 0:\n",
    "                is_prime = False\n",
    "                break\n",
    "        if is_prime:\n",
    "            primes.append(num)\n",
    "            yield num\n",
    "\n",
    "prime_gen = prime_generator()\n",
    "for _ in range(20):\n",
    "    print(next(prime_gen))\n"
   ]
  },
  {
   "cell_type": "markdown",
   "id": "2509a718-9d63-4f6b-a44d-678d6553b2e5",
   "metadata": {},
   "source": [
    "Ans 6 generating the fibnacchi number "
   ]
  },
  {
   "cell_type": "code",
   "execution_count": 4,
   "id": "25eac1ce-a0f1-4e07-9b43-17a671a1737c",
   "metadata": {},
   "outputs": [],
   "source": [
    "def test_fib():\n",
    "    a,b = 0,1\n",
    "    while True:\n",
    "        yield a \n",
    "        a,b = b, a+b\n",
    "    \n",
    "    "
   ]
  },
  {
   "cell_type": "code",
   "execution_count": 5,
   "id": "dd5ae21f-a392-4e9e-8697-cb9e14079764",
   "metadata": {},
   "outputs": [],
   "source": [
    "fib = test_fib()"
   ]
  },
  {
   "cell_type": "code",
   "execution_count": 6,
   "id": "0f815e98-3688-4eff-91e2-f34c12ad89aa",
   "metadata": {},
   "outputs": [
    {
     "name": "stdout",
     "output_type": "stream",
     "text": [
      "0\n",
      "1\n",
      "1\n",
      "2\n",
      "3\n",
      "5\n",
      "8\n",
      "13\n",
      "21\n",
      "34\n"
     ]
    }
   ],
   "source": [
    "for i in range(10):\n",
    "    print(next(fib))"
   ]
  },
  {
   "cell_type": "markdown",
   "id": "d431eada-8091-4380-9684-d6dabc387f2e",
   "metadata": {},
   "source": [
    "Ans 7 "
   ]
  },
  {
   "cell_type": "code",
   "execution_count": 7,
   "id": "792389e7-10a1-48af-8e64-808413f1e327",
   "metadata": {},
   "outputs": [],
   "source": [
    "my_string = 'pwskills'"
   ]
  },
  {
   "cell_type": "code",
   "execution_count": 31,
   "id": "8b9409c9-e1ca-4fee-9570-84706dd4d778",
   "metadata": {},
   "outputs": [
    {
     "data": {
      "text/plain": [
       "['P', 'W', 'S', 'K', 'I', 'L', 'L', 'S']"
      ]
     },
     "execution_count": 31,
     "metadata": {},
     "output_type": "execute_result"
    }
   ],
   "source": [
    "list(map(lambda s : s.upper() , my_string))"
   ]
  },
  {
   "cell_type": "code",
   "execution_count": 9,
   "id": "20978245-ab4f-44c2-a3e5-ce68383d5576",
   "metadata": {},
   "outputs": [
    {
     "data": {
      "text/plain": [
       "['p', 'w', 's', 'k', 'i', 'l', 'l', 's']"
      ]
     },
     "execution_count": 9,
     "metadata": {},
     "output_type": "execute_result"
    }
   ],
   "source": [
    "l1"
   ]
  },
  {
   "cell_type": "markdown",
   "id": "56fe8ab8-9f89-4784-9d0e-6db6163dc520",
   "metadata": {},
   "source": [
    "Ans : 8 "
   ]
  },
  {
   "cell_type": "code",
   "execution_count": 10,
   "id": "8b6f0fa0-2a23-46d5-9b8b-2289d185ea84",
   "metadata": {},
   "outputs": [
    {
     "name": "stdin",
     "output_type": "stream",
     "text": [
      "Enter a number:  11\n"
     ]
    },
    {
     "name": "stdout",
     "output_type": "stream",
     "text": [
      "11 is a palindrome\n"
     ]
    }
   ],
   "source": [
    "def is_palindrome(n):\n",
    "    temp = n\n",
    "    rev = 0\n",
    "    while n > 0:\n",
    "        digit = n % 10\n",
    "        rev = rev * 10 + digit\n",
    "        n = n // 10\n",
    "    return temp == rev\n",
    "\n",
    "num = int(input('Enter a number: '))\n",
    "if is_palindrome(num):\n",
    "    print(f'{num} is a palindrome')\n",
    "else:\n",
    "    print(f'{num} is not a palindrome')\n"
   ]
  },
  {
   "cell_type": "markdown",
   "id": "3f5e0688-3957-44db-9978-9ac33767f293",
   "metadata": {},
   "source": [
    "Ans 9"
   ]
  },
  {
   "cell_type": "code",
   "execution_count": 11,
   "id": "788fe0ac-16b9-42c6-8b12-4cc910c75539",
   "metadata": {},
   "outputs": [
    {
     "data": {
      "text/plain": [
       "range(0, 100)"
      ]
     },
     "execution_count": 11,
     "metadata": {},
     "output_type": "execute_result"
    }
   ],
   "source": [
    "range(100)"
   ]
  },
  {
   "cell_type": "code",
   "execution_count": 12,
   "id": "215f1b5b-0d66-4c7b-a59d-9c0103810a59",
   "metadata": {},
   "outputs": [
    {
     "name": "stdout",
     "output_type": "stream",
     "text": [
      "0\n",
      "1\n",
      "2\n",
      "3\n",
      "4\n",
      "5\n",
      "6\n",
      "7\n",
      "8\n",
      "9\n",
      "10\n",
      "11\n",
      "12\n",
      "13\n",
      "14\n",
      "15\n",
      "16\n",
      "17\n",
      "18\n",
      "19\n",
      "20\n",
      "21\n",
      "22\n",
      "23\n",
      "24\n",
      "25\n",
      "26\n",
      "27\n",
      "28\n",
      "29\n",
      "30\n",
      "31\n",
      "32\n",
      "33\n",
      "34\n",
      "35\n",
      "36\n",
      "37\n",
      "38\n",
      "39\n",
      "40\n",
      "41\n",
      "42\n",
      "43\n",
      "44\n",
      "45\n",
      "46\n",
      "47\n",
      "48\n",
      "49\n",
      "50\n",
      "51\n",
      "52\n",
      "53\n",
      "54\n",
      "55\n",
      "56\n",
      "57\n",
      "58\n",
      "59\n",
      "60\n",
      "61\n",
      "62\n",
      "63\n",
      "64\n",
      "65\n",
      "66\n",
      "67\n",
      "68\n",
      "69\n",
      "70\n",
      "71\n",
      "72\n",
      "73\n",
      "74\n",
      "75\n",
      "76\n",
      "77\n",
      "78\n",
      "79\n",
      "80\n",
      "81\n",
      "82\n",
      "83\n",
      "84\n",
      "85\n",
      "86\n",
      "87\n",
      "88\n",
      "89\n",
      "90\n",
      "91\n",
      "92\n",
      "93\n",
      "94\n",
      "95\n",
      "96\n",
      "97\n",
      "98\n",
      "99\n"
     ]
    }
   ],
   "source": [
    "l = []\n",
    "for i in range(100):\n",
    "    print(i)\n",
    "    l.append(i)"
   ]
  },
  {
   "cell_type": "code",
   "execution_count": 13,
   "id": "5eace923-e5dc-43a9-92a7-d6c58136c270",
   "metadata": {},
   "outputs": [
    {
     "data": {
      "text/plain": [
       "[0,\n",
       " 1,\n",
       " 2,\n",
       " 3,\n",
       " 4,\n",
       " 5,\n",
       " 6,\n",
       " 7,\n",
       " 8,\n",
       " 9,\n",
       " 10,\n",
       " 11,\n",
       " 12,\n",
       " 13,\n",
       " 14,\n",
       " 15,\n",
       " 16,\n",
       " 17,\n",
       " 18,\n",
       " 19,\n",
       " 20,\n",
       " 21,\n",
       " 22,\n",
       " 23,\n",
       " 24,\n",
       " 25,\n",
       " 26,\n",
       " 27,\n",
       " 28,\n",
       " 29,\n",
       " 30,\n",
       " 31,\n",
       " 32,\n",
       " 33,\n",
       " 34,\n",
       " 35,\n",
       " 36,\n",
       " 37,\n",
       " 38,\n",
       " 39,\n",
       " 40,\n",
       " 41,\n",
       " 42,\n",
       " 43,\n",
       " 44,\n",
       " 45,\n",
       " 46,\n",
       " 47,\n",
       " 48,\n",
       " 49,\n",
       " 50,\n",
       " 51,\n",
       " 52,\n",
       " 53,\n",
       " 54,\n",
       " 55,\n",
       " 56,\n",
       " 57,\n",
       " 58,\n",
       " 59,\n",
       " 60,\n",
       " 61,\n",
       " 62,\n",
       " 63,\n",
       " 64,\n",
       " 65,\n",
       " 66,\n",
       " 67,\n",
       " 68,\n",
       " 69,\n",
       " 70,\n",
       " 71,\n",
       " 72,\n",
       " 73,\n",
       " 74,\n",
       " 75,\n",
       " 76,\n",
       " 77,\n",
       " 78,\n",
       " 79,\n",
       " 80,\n",
       " 81,\n",
       " 82,\n",
       " 83,\n",
       " 84,\n",
       " 85,\n",
       " 86,\n",
       " 87,\n",
       " 88,\n",
       " 89,\n",
       " 90,\n",
       " 91,\n",
       " 92,\n",
       " 93,\n",
       " 94,\n",
       " 95,\n",
       " 96,\n",
       " 97,\n",
       " 98,\n",
       " 99]"
      ]
     },
     "execution_count": 13,
     "metadata": {},
     "output_type": "execute_result"
    }
   ],
   "source": [
    "l"
   ]
  },
  {
   "cell_type": "code",
   "execution_count": 28,
   "id": "02e03401-de4c-4e69-86f4-11896d52d34c",
   "metadata": {},
   "outputs": [
    {
     "name": "stdout",
     "output_type": "stream",
     "text": [
      "1\n",
      "3\n",
      "5\n",
      "7\n",
      "9\n",
      "11\n",
      "13\n",
      "15\n",
      "17\n",
      "19\n",
      "21\n",
      "23\n",
      "25\n",
      "27\n",
      "29\n",
      "31\n",
      "33\n",
      "35\n",
      "37\n",
      "39\n",
      "41\n",
      "43\n",
      "45\n",
      "47\n",
      "49\n",
      "51\n",
      "53\n",
      "55\n",
      "57\n",
      "59\n",
      "61\n",
      "63\n",
      "65\n",
      "67\n",
      "69\n",
      "71\n",
      "73\n",
      "75\n",
      "77\n",
      "79\n",
      "81\n",
      "83\n",
      "85\n",
      "87\n",
      "89\n",
      "91\n",
      "93\n",
      "95\n",
      "97\n",
      "99\n"
     ]
    }
   ],
   "source": [
    "l1 =[]\n",
    "for i in l:\n",
    "    if i % 2 == 1:\n",
    "        print(i)\n",
    "        l1.append(i)"
   ]
  },
  {
   "cell_type": "code",
   "execution_count": 30,
   "id": "8954b257-7baf-487b-b076-0b3c18dbf95f",
   "metadata": {},
   "outputs": [
    {
     "data": {
      "text/plain": [
       "[1,\n",
       " 3,\n",
       " 5,\n",
       " 7,\n",
       " 9,\n",
       " 11,\n",
       " 13,\n",
       " 15,\n",
       " 17,\n",
       " 19,\n",
       " 21,\n",
       " 23,\n",
       " 25,\n",
       " 27,\n",
       " 29,\n",
       " 31,\n",
       " 33,\n",
       " 35,\n",
       " 37,\n",
       " 39,\n",
       " 41,\n",
       " 43,\n",
       " 45,\n",
       " 47,\n",
       " 49,\n",
       " 51,\n",
       " 53,\n",
       " 55,\n",
       " 57,\n",
       " 59,\n",
       " 61,\n",
       " 63,\n",
       " 65,\n",
       " 67,\n",
       " 69,\n",
       " 71,\n",
       " 73,\n",
       " 75,\n",
       " 77,\n",
       " 79,\n",
       " 81,\n",
       " 83,\n",
       " 85,\n",
       " 87,\n",
       " 89,\n",
       " 91,\n",
       " 93,\n",
       " 95,\n",
       " 97,\n",
       " 99]"
      ]
     },
     "execution_count": 30,
     "metadata": {},
     "output_type": "execute_result"
    }
   ],
   "source": [
    "#List of odd number in the list\n",
    "\n",
    "l1"
   ]
  },
  {
   "cell_type": "code",
   "execution_count": null,
   "id": "76bb8877-2764-4dd0-9a3a-f24f9fd52bb9",
   "metadata": {},
   "outputs": [],
   "source": []
  }
 ],
 "metadata": {
  "kernelspec": {
   "display_name": "Python 3 (ipykernel)",
   "language": "python",
   "name": "python3"
  },
  "language_info": {
   "codemirror_mode": {
    "name": "ipython",
    "version": 3
   },
   "file_extension": ".py",
   "mimetype": "text/x-python",
   "name": "python",
   "nbconvert_exporter": "python",
   "pygments_lexer": "ipython3",
   "version": "3.10.8"
  }
 },
 "nbformat": 4,
 "nbformat_minor": 5
}
